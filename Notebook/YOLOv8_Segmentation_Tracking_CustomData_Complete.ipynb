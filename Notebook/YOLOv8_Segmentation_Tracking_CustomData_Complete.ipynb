{
  "cells": [
    {
      "cell_type": "markdown",
      "metadata": {
        "id": "Osp3607nFu9G"
      },
      "source": [
        "# Before Running the Script Please Make Sure you Select the Run Time as GPU"
      ]
    },
    {
      "cell_type": "markdown",
      "metadata": {
        "id": "M-wWCISVHfwv"
      },
      "source": [
        "# **Import the Required Libraries**"
      ]
    },
    {
      "cell_type": "code",
      "execution_count": null,
      "metadata": {
        "id": "ufI8h_pgrefd"
      },
      "outputs": [],
      "source": [
        "from IPython.display import Image"
      ]
    },
    {
      "cell_type": "markdown",
      "metadata": {
        "id": "tO1DFFdfFvI-"
      },
      "source": [
        "# **Clone the Github Repo**"
      ]
    },
    {
      "cell_type": "code",
      "execution_count": null,
      "metadata": {
        "colab": {
          "base_uri": "https://localhost:8080/"
        },
        "id": "JTqOq3p0F0ul",
        "outputId": "1f6e87dc-6da6-4f44-a5d6-9225d6941eb6"
      },
      "outputs": [],
      "source": [
        "!git clone https://github.com/junaid-o/CV-DL-12_Object_Segmentation_and_Tracking.git\n"
      ]
    },
    {
      "cell_type": "code",
      "execution_count": null,
      "metadata": {
        "colab": {
          "base_uri": "https://localhost:8080/"
        },
        "id": "ezej1xPpd1NK",
        "outputId": "72e5a647-7634-4c1b-b7e0-7267554c4049"
      },
      "outputs": [],
      "source": [
        "!pwd"
      ]
    },
    {
      "cell_type": "markdown",
      "metadata": {
        "id": "PuJXtLs9C-tj"
      },
      "source": [
        "## Setting the Current Directory"
      ]
    },
    {
      "cell_type": "code",
      "execution_count": null,
      "metadata": {
        "colab": {
          "base_uri": "https://localhost:8080/"
        },
        "id": "_0Cy9Q3hC0CI",
        "outputId": "15ace770-d7b2-4282-916f-6a1188b630a8"
      },
      "outputs": [],
      "source": [
        "%cd /content/CV-DL-12_Object_Segmentation_and_Tracking"
      ]
    },
    {
      "cell_type": "markdown",
      "metadata": {
        "id": "p4PQj_GXDMFb"
      },
      "source": [
        "## Install all the Dependencies"
      ]
    },
    {
      "cell_type": "code",
      "execution_count": null,
      "metadata": {
        "colab": {
          "base_uri": "https://localhost:8080/"
        },
        "id": "hxERsChADIgc",
        "outputId": "6c3dd663-aed9-48d1-e6fb-16c271aacec3"
      },
      "outputs": [],
      "source": [
        "!pip install -e '.[dev]'"
      ]
    },
    {
      "cell_type": "markdown",
      "metadata": {
        "id": "i4-h2jwWDXU6"
      },
      "source": [
        "##Moving to the Required Directory"
      ]
    },
    {
      "cell_type": "code",
      "execution_count": null,
      "metadata": {
        "colab": {
          "base_uri": "https://localhost:8080/"
        },
        "id": "sWXs2RdKDnqB",
        "outputId": "b7dba4b4-4d07-4b10-84eb-baa16f5ee10a"
      },
      "outputs": [],
      "source": [
        "%cd /content/CV-DL-12_Object_Segmentation_and_Tracking/ultralytics/yolo/v8/segment"
      ]
    },
    {
      "cell_type": "markdown",
      "metadata": {
        "id": "BGEprKAl63gg"
      },
      "source": [
        "##Importing the Dataset from the RoboFlow"
      ]
    },
    {
      "cell_type": "code",
      "execution_count": null,
      "metadata": {
        "colab": {
          "base_uri": "https://localhost:8080/",
          "height": 1000
        },
        "id": "6pxxnzZo7Kpz",
        "outputId": "a34a6295-86cb-43e2-9dfb-d280ec383ff4"
      },
      "outputs": [],
      "source": [
        "!pip install roboflow\n",
        "\n",
        "from roboflow import Roboflow\n",
        "rf = Roboflow(api_key=\"70SpXc1OmTXzM9mxngGh\")\n",
        "project = rf.workspace(\"kagglemtid\").project(\"drone-traffic\")\n",
        "dataset = project.version(1).download(\"yolov5\")"
      ]
    },
    {
      "cell_type": "markdown",
      "metadata": {
        "id": "oEUtstJcDqz0"
      },
      "source": [
        "## To implement the DeepSORT tracking, downloading the required files "
      ]
    },
    {
      "cell_type": "code",
      "execution_count": null,
      "metadata": {
        "colab": {
          "base_uri": "https://localhost:8080/"
        },
        "id": "5FuD6jDfDSoU",
        "outputId": "e93e0bf2-d73a-44f1-dc93-0ad4c0f838b6"
      },
      "outputs": [],
      "source": [
        "######## NOT NEEDED IF CLONING ENTIRE REPO\n",
        "\n",
        "#!gdown \"https://drive.google.com/uc?id=11ZSZcG-bcbueXZC3rN08CM0qqX3eiHxf&confirm=t\"\n"
      ]
    },
    {
      "cell_type": "markdown",
      "metadata": {
        "id": "qFpopDEED61b"
      },
      "source": [
        "## Unzipping the DeepSORT Files"
      ]
    },
    {
      "cell_type": "code",
      "execution_count": null,
      "metadata": {
        "colab": {
          "base_uri": "https://localhost:8080/"
        },
        "id": "uLmlRpFdD1su",
        "outputId": "1c0fe98a-036d-4807-8539-e903d557906c"
      },
      "outputs": [],
      "source": [
        "######## NOT NEEDED IF CLONING ENTIRE REPO\n",
        "\n",
        "\n",
        "#!unzip 'deep_sort_pytorch.zip'"
      ]
    },
    {
      "cell_type": "markdown",
      "metadata": {
        "id": "jmTtRbY-Fhxo"
      },
      "source": [
        "# **Training the Custom Model**"
      ]
    },
    {
      "cell_type": "code",
      "execution_count": null,
      "metadata": {
        "id": "eHvxVUHCNJjr"
      },
      "outputs": [],
      "source": [
        "HOME = '/content/CV-DL-12_Object_Segmentation_and_Tracking/ultralytics/yolo/v8/segment'"
      ]
    },
    {
      "cell_type": "code",
      "execution_count": null,
      "metadata": {
        "colab": {
          "base_uri": "https://localhost:8080/"
        },
        "id": "GGcpsGWT8N4k",
        "outputId": "f6c8e2c3-3484-423b-c329-fc5b01caa7b8"
      },
      "outputs": [],
      "source": [
        "%cd {HOME}"
      ]
    },
    {
      "cell_type": "code",
      "execution_count": null,
      "metadata": {
        "colab": {
          "base_uri": "https://localhost:8080/"
        },
        "id": "4mbP2dvp8LGf",
        "outputId": "e53eba21-8c34-427e-9c60-f2383ec4ee31"
      },
      "outputs": [],
      "source": [
        "%cd {dataset.location}"
      ]
    },
    {
      "cell_type": "code",
      "execution_count": null,
      "metadata": {
        "colab": {
          "base_uri": "https://localhost:8080/"
        },
        "id": "fSR41Fbo8Qsn",
        "outputId": "6689f5c0-0e60-4507-c99a-b427a4fd9d8d"
      },
      "outputs": [],
      "source": [
        "%cd {HOME}\n",
        "\n",
        "!python train.py model=yolov8l-seg.pt data={dataset.location}/data.yaml epochs=30 imgsz=640"
      ]
    },
    {
      "cell_type": "markdown",
      "metadata": {
        "id": "p6vacSYUqzjF"
      },
      "source": [
        "# **Checking the Files inside the Train Folder**"
      ]
    },
    {
      "cell_type": "code",
      "execution_count": null,
      "metadata": {
        "colab": {
          "base_uri": "https://localhost:8080/"
        },
        "id": "hbt9GG64q238",
        "outputId": "202313c1-06d9-4007-d9c0-8688ad214284"
      },
      "outputs": [],
      "source": [
        "!ls /content/CV-DL-12_Object_Segmentation_and_Tracking/runs/segment/train4"
      ]
    },
    {
      "cell_type": "markdown",
      "metadata": {
        "id": "O7L0HQ4frXh-"
      },
      "source": [
        "# **Printing the Confusion Matrix**"
      ]
    },
    {
      "cell_type": "code",
      "execution_count": null,
      "metadata": {
        "colab": {
          "base_uri": "https://localhost:8080/",
          "height": 852
        },
        "id": "FSU_b2B6rVyO",
        "outputId": "79bf5e4f-f1e8-43fa-a4e2-5647c2af5f46"
      },
      "outputs": [],
      "source": [
        "Image(filename = '/content/CV-DL-12_Object_Segmentation_and_Tracking/runs/segment/train4/confusion_matrix.png')"
      ]
    },
    {
      "cell_type": "markdown",
      "metadata": {
        "id": "Fo9SQWa4sNKw"
      },
      "source": [
        "# **Printing the Model Prediction on Validation Batch**"
      ]
    },
    {
      "cell_type": "code",
      "execution_count": null,
      "metadata": {
        "colab": {
          "base_uri": "https://localhost:8080/",
          "height": 617
        },
        "id": "zXfvx8g4sTx2",
        "outputId": "a08728a1-c0e7-441c-d2dc-d11fd8d60c7d"
      },
      "outputs": [],
      "source": [
        "Image(filename = r'/content/CV-DL-12_Object_Segmentation_and_Tracking/runs/segment/train4/val_batch2_pred.jpg', width =600)"
      ]
    },
    {
      "cell_type": "markdown",
      "metadata": {
        "id": "aweeS57zNV-j"
      },
      "source": [
        "# **Downloading the Weights From the Google Drive**\"\n"
      ]
    },
    {
      "cell_type": "code",
      "execution_count": null,
      "metadata": {
        "colab": {
          "base_uri": "https://localhost:8080/"
        },
        "id": "_AVCTxYDNVSb",
        "outputId": "567d890e-abc9-4245-8e6d-f325a61665ab"
      },
      "outputs": [],
      "source": [
        "%cd {HOME}"
      ]
    },
    {
      "cell_type": "code",
      "execution_count": null,
      "metadata": {
        "colab": {
          "base_uri": "https://localhost:8080/"
        },
        "id": "PaXu7rNzNWFw",
        "outputId": "e1b2fb1c-054f-483f-bf98-f8f95b593a78"
      },
      "outputs": [],
      "source": [
        "#!gdown \"https://drive.google.com/uc?id=1N6lXKKaPpUEUOnpxIj03fjQRSSxmsSKf&confirm=t\"\n"
      ]
    },
    {
      "cell_type": "markdown",
      "metadata": {
        "id": "e8-8kfNdpom-"
      },
      "source": [
        "# **Validate Custom Model**"
      ]
    },
    {
      "cell_type": "code",
      "execution_count": null,
      "metadata": {
        "colab": {
          "base_uri": "https://localhost:8080/"
        },
        "id": "wcuyOineY34b",
        "outputId": "9e6fcfc5-7199-4054-c8f8-2b70ded79b63"
      },
      "outputs": [],
      "source": [
        "%cd /content/CV-DL-12_Object_Segmentation_and_Tracking/ultralytics/yolo/v8/segment"
      ]
    },
    {
      "cell_type": "code",
      "execution_count": null,
      "metadata": {
        "colab": {
          "base_uri": "https://localhost:8080/"
        },
        "id": "gHE5lsF1p3p9",
        "outputId": "30a115e6-818d-4f5c-c31d-4221caa9896f"
      },
      "outputs": [],
      "source": [
        "!pwd"
      ]
    },
    {
      "cell_type": "code",
      "execution_count": null,
      "metadata": {
        "colab": {
          "base_uri": "https://localhost:8080/"
        },
        "id": "8tAQNZCqYoDo",
        "outputId": "c83e9f73-f556-4785-c3ed-557dca660976"
      },
      "outputs": [],
      "source": [
        " {dataset.location}"
      ]
    },
    {
      "cell_type": "code",
      "execution_count": null,
      "metadata": {
        "colab": {
          "base_uri": "https://localhost:8080/"
        },
        "id": "8kFRrWSBptkY",
        "outputId": "450fe83b-158f-4538-f4e6-4242dc4578d1"
      },
      "outputs": [],
      "source": [
        "!python val.py model='best.pt' data={dataset.location}/data.yaml"
      ]
    },
    {
      "cell_type": "markdown",
      "metadata": {
        "id": "9IK3akBhskF0"
      },
      "source": [
        "# **Inference with Custom Model**"
      ]
    },
    {
      "cell_type": "markdown",
      "metadata": {
        "id": "hFK1w1poGo-G"
      },
      "source": [
        "# **Demo Video 1**"
      ]
    },
    {
      "cell_type": "code",
      "execution_count": null,
      "metadata": {
        "colab": {
          "base_uri": "https://localhost:8080/"
        },
        "id": "g9iHpyuVFv_X",
        "outputId": "4fa0aec6-7c15-4163-ff7e-1e46b75c341e"
      },
      "outputs": [],
      "source": [
        "!gdown \"https://drive.google.com/uc?id=1UUZUS76ylH5RjMSc9s4rITSYDTG5AHt0&confirm=t\"\n"
      ]
    },
    {
      "cell_type": "code",
      "execution_count": null,
      "metadata": {
        "colab": {
          "base_uri": "https://localhost:8080/"
        },
        "id": "dWLLqGbnsipu",
        "outputId": "dc5f6466-56a7-4dca-fcc4-86ed8357c754"
      },
      "outputs": [],
      "source": [
        "!python predict.py model='best.pt' source='/content/CV-DL-12_Object_Segmentation_and_Tracking/input_data_USER/test/test1.mp4'"
      ]
    },
    {
      "cell_type": "markdown",
      "metadata": {
        "id": "Y0vqsnUJGiKB"
      },
      "source": [
        "# **Display the Demo Video**"
      ]
    },
    {
      "cell_type": "code",
      "execution_count": null,
      "metadata": {
        "colab": {
          "base_uri": "https://localhost:8080/"
        },
        "id": "7MyfgoWKE1e0",
        "outputId": "2fd80265-6d1f-45a1-834e-16188737d233"
      },
      "outputs": [],
      "source": [
        "!rm \"/content/result_compressed.mp4\""
      ]
    },
    {
      "cell_type": "code",
      "execution_count": null,
      "metadata": {
        "colab": {
          "base_uri": "https://localhost:8080/",
          "height": 247
        },
        "id": "WkR9WDjCEn18",
        "outputId": "91cd3478-a26a-4525-ceee-b991dd85a8a3"
      },
      "outputs": [],
      "source": [
        "from IPython.display import HTML\n",
        "from base64 import b64encode\n",
        "import os\n",
        "\n",
        "# Input video path\n",
        "save_path = '/content/CV-DL-12_Object_Segmentation_and_Tracking/runs/detect/train/test4.mp4'\n",
        "\n",
        "# Compressed video path\n",
        "compressed_path = \"/content/result_compressed.mp4\"\n",
        "\n",
        "os.system(f\"ffmpeg -i {save_path} -vcodec libx264 {compressed_path}\")\n",
        "\n",
        "# Show video\n",
        "mp4 = open(compressed_path,'rb').read()\n",
        "data_url = \"data:video/mp4;base64,\" + b64encode(mp4).decode()\n",
        "HTML(\"\"\"\n",
        "<video width=400 controls>\n",
        "      <source src=\"%s\" type=\"video/mp4\">\n",
        "</video>\n",
        "\"\"\" % data_url)"
      ]
    },
    {
      "cell_type": "markdown",
      "metadata": {
        "id": "hB_rMcNNGtio"
      },
      "source": [
        "# **Demo Video 2**"
      ]
    },
    {
      "cell_type": "code",
      "execution_count": null,
      "metadata": {
        "colab": {
          "base_uri": "https://localhost:8080/"
        },
        "id": "LLqHbof1Gvz1",
        "outputId": "f1178f71-856a-43df-b58d-b76cf2e79155"
      },
      "outputs": [],
      "source": [
        "#!gdown \"https://drive.google.com/uc?id=1MaH6dNoegFjwkhtedxXufn2UD7EPpF_w&confirm=t\"\n"
      ]
    },
    {
      "cell_type": "code",
      "execution_count": null,
      "metadata": {
        "colab": {
          "base_uri": "https://localhost:8080/"
        },
        "id": "pjf23KSAGv21",
        "outputId": "f678954f-38df-41d5-83dd-d3dd89748d07"
      },
      "outputs": [],
      "source": [
        "!python predict.py model='best.pt' source='/content/CV-DL-12_Object_Segmentation_and_Tracking/input_data_USER/test/test2.mp4'\n"
      ]
    },
    {
      "cell_type": "markdown",
      "metadata": {
        "id": "dClDXNUlHDxV"
      },
      "source": [
        "# **Display the Demo Video**"
      ]
    },
    {
      "cell_type": "code",
      "execution_count": null,
      "metadata": {
        "id": "sE-R4zmyHGeW"
      },
      "outputs": [],
      "source": [
        "!rm \"/content/result_compressed.mp4\""
      ]
    },
    {
      "cell_type": "code",
      "execution_count": null,
      "metadata": {
        "colab": {
          "background_save": true,
          "base_uri": "https://localhost:8080/",
          "height": 247
        },
        "id": "fz6PouroHGi3",
        "outputId": "7778ad14-2be1-43ab-bd06-073ddc147937"
      },
      "outputs": [],
      "source": [
        "from IPython.display import HTML\n",
        "from base64 import b64encode\n",
        "import os\n",
        "\n",
        "# Input video path\n",
        "save_path = '/content/CV-DL-12_Object_Segmentation_and_Tracking/runs/detect/train2/test2.mp4'\n",
        "\n",
        "# Compressed video path\n",
        "compressed_path = \"/content/result_compressed.mp4\"\n",
        "\n",
        "os.system(f\"ffmpeg -i {save_path} -vcodec libx264 {compressed_path}\")\n",
        "\n",
        "# Show video\n",
        "mp4 = open(compressed_path,'rb').read()\n",
        "data_url = \"data:video/mp4;base64,\" + b64encode(mp4).decode()\n",
        "HTML(\"\"\"\n",
        "<video width=400 controls>\n",
        "      <source src=\"%s\" type=\"video/mp4\">\n",
        "</video>\n",
        "\"\"\" % data_url)"
      ]
    },
    {
      "cell_type": "code",
      "execution_count": null,
      "metadata": {
        "id": "JGR8tiSjIT93"
      },
      "outputs": [],
      "source": []
    }
  ],
  "metadata": {
    "accelerator": "GPU",
    "colab": {
      "provenance": []
    },
    "gpuClass": "standard",
    "kernelspec": {
      "display_name": "Python 3",
      "name": "python3"
    },
    "language_info": {
      "name": "python"
    }
  },
  "nbformat": 4,
  "nbformat_minor": 0
}
