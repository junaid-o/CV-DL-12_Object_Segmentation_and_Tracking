{
  "cells": [
    {
      "cell_type": "markdown",
      "metadata": {
        "id": "Osp3607nFu9G"
      },
      "source": [
        "# Before Running the Script Please Make Sure you Select the Run Time as GPU"
      ]
    },
    {
      "cell_type": "markdown",
      "metadata": {
        "id": "M-wWCISVHfwv"
      },
      "source": [
        "# **Import the Required Libraries**"
      ]
    },
    {
      "cell_type": "code",
      "execution_count": 1,
      "metadata": {
        "id": "ufI8h_pgrefd"
      },
      "outputs": [],
      "source": [
        "from IPython.display import Image"
      ]
    },
    {
      "cell_type": "markdown",
      "metadata": {
        "id": "tO1DFFdfFvI-"
      },
      "source": [
        "# **Clone the Github Repo**"
      ]
    },
    {
      "cell_type": "code",
      "execution_count": null,
      "metadata": {
        "id": "JTqOq3p0F0ul"
      },
      "outputs": [],
      "source": [
        "!git clone https://github.com/junaid-o/CV-DL-12_Object_Segmentation_and_Tracking.git\n"
      ]
    },
    {
      "cell_type": "code",
      "execution_count": null,
      "metadata": {
        "id": "ezej1xPpd1NK"
      },
      "outputs": [],
      "source": [
        "!pwd"
      ]
    },
    {
      "cell_type": "markdown",
      "metadata": {
        "id": "PuJXtLs9C-tj"
      },
      "source": [
        "## Setting the Current Directory"
      ]
    },
    {
      "cell_type": "code",
      "execution_count": null,
      "metadata": {
        "id": "_0Cy9Q3hC0CI"
      },
      "outputs": [],
      "source": [
        "%cd /content/CV-DL-12_Object_Segmentation_and_Tracking"
      ]
    },
    {
      "cell_type": "markdown",
      "metadata": {
        "id": "p4PQj_GXDMFb"
      },
      "source": [
        "## Install all the Dependencies"
      ]
    },
    {
      "cell_type": "code",
      "execution_count": null,
      "metadata": {
        "id": "hxERsChADIgc"
      },
      "outputs": [],
      "source": [
        "!pip install -e '.[dev]'"
      ]
    },
    {
      "cell_type": "markdown",
      "metadata": {
        "id": "i4-h2jwWDXU6"
      },
      "source": [
        "## Moving to the Required Directory"
      ]
    },
    {
      "cell_type": "code",
      "execution_count": 4,
      "metadata": {
        "colab": {
          "base_uri": "https://localhost:8080/"
        },
        "id": "sWXs2RdKDnqB",
        "outputId": "f267d2ed-772c-4c1f-8ae3-200de0e5e7c6"
      },
      "outputs": [
        {
          "output_type": "stream",
          "name": "stdout",
          "text": [
            "/content/CV-DL-12_Object_Segmentation_and_Tracking/ultralytics/yolo/v8/detect\n"
          ]
        }
      ],
      "source": [
        "%cd /content/CV-DL-12_Object_Segmentation_and_Tracking/ultralytics/yolo/v8/detect"
      ]
    },
    {
      "cell_type": "markdown",
      "metadata": {
        "id": "BGEprKAl63gg"
      },
      "source": [
        "## Importing the Dataset from the RoboFlow"
      ]
    },
    {
      "cell_type": "code",
      "execution_count": null,
      "metadata": {
        "id": "6pxxnzZo7Kpz"
      },
      "outputs": [],
      "source": [
        "!pip install roboflow\n",
        "\n",
        "from roboflow import Roboflow\n",
        "rf = Roboflow(api_key=\"70SpXc1OmTXzM9mxngGh\")\n",
        "project = rf.workspace(\"drone-dataset-mvh8i\").project(\"detection-bzujh\")\n",
        "dataset = project.version(1).download(\"yolov5\")"
      ]
    },
    {
      "cell_type": "markdown",
      "metadata": {
        "id": "oEUtstJcDqz0"
      },
      "source": [
        "## To implement the DeepSORT tracking, downloading the required files"
      ]
    },
    {
      "cell_type": "code",
      "execution_count": 5,
      "metadata": {
        "colab": {
          "base_uri": "https://localhost:8080/"
        },
        "id": "5FuD6jDfDSoU",
        "outputId": "0d471510-85ea-4819-8af0-fa60db730060"
      },
      "outputs": [
        {
          "output_type": "stream",
          "name": "stdout",
          "text": [
            "fatal: destination path 'deep_sort_pytorch' already exists and is not an empty directory.\n"
          ]
        }
      ],
      "source": [
        "######## TRY ONLY ONE NOT BOTH\n",
        "######### NOT NEEDED IF CLONING ENTIRE REPO OF PROJECT\n",
        "\n",
        "\n",
        "\n",
        "#!gdown \"https://drive.google.com/uc?id=11ZSZcG-bcbueXZC3rN08CM0qqX3eiHxf&confirm=t\"\n",
        "\n",
        "#!git clone https://github.com/junaid-o/CV-DL-12_Object_Segmentation_and_Tracking/tree/main/ultralytics/yolo/v8/detect/deep_sort_pytorch.git"
      ]
    },
    {
      "cell_type": "markdown",
      "metadata": {
        "id": "qFpopDEED61b"
      },
      "source": [
        "## Unzipping the DeepSORT Files"
      ]
    },
    {
      "cell_type": "code",
      "execution_count": null,
      "metadata": {
        "id": "uLmlRpFdD1su"
      },
      "outputs": [],
      "source": [
        "#!unzip 'deep_sort_pytorch.zip'"
      ]
    },
    {
      "cell_type": "markdown",
      "metadata": {
        "id": "jmTtRbY-Fhxo"
      },
      "source": [
        "# **Training the Custom Model**"
      ]
    },
    {
      "cell_type": "code",
      "execution_count": null,
      "metadata": {
        "id": "eHvxVUHCNJjr"
      },
      "outputs": [],
      "source": [
        "HOME = '/content/CV-DL-12_Object_Segmentation_and_Tracking/ultralytics/yolo/v8/detect'"
      ]
    },
    {
      "cell_type": "code",
      "execution_count": null,
      "metadata": {
        "id": "GGcpsGWT8N4k"
      },
      "outputs": [],
      "source": [
        "%cd {HOME}"
      ]
    },
    {
      "cell_type": "code",
      "execution_count": null,
      "metadata": {
        "id": "4mbP2dvp8LGf"
      },
      "outputs": [],
      "source": [
        "%cd {dataset.location}"
      ]
    },
    {
      "cell_type": "code",
      "execution_count": null,
      "metadata": {
        "id": "fSR41Fbo8Qsn"
      },
      "outputs": [],
      "source": [
        "%cd {HOME}\n",
        "\n",
        "!python train.py model=yolov8l.pt data={dataset.location}/data.yaml epochs=50 imgsz=640"
      ]
    },
    {
      "cell_type": "markdown",
      "metadata": {
        "id": "p6vacSYUqzjF"
      },
      "source": [
        "# **Checking the Files inside the Train Folder**"
      ]
    },
    {
      "cell_type": "code",
      "execution_count": null,
      "metadata": {
        "id": "hbt9GG64q238"
      },
      "outputs": [],
      "source": [
        "!ls /content/CV-DL-12_Object_Segmentation_and_Tracking/runs/detect/train2"
      ]
    },
    {
      "cell_type": "markdown",
      "metadata": {
        "id": "O7L0HQ4frXh-"
      },
      "source": [
        "# **Printing the Confusion Matrix**"
      ]
    },
    {
      "cell_type": "code",
      "execution_count": null,
      "metadata": {
        "id": "FSU_b2B6rVyO"
      },
      "outputs": [],
      "source": [
        "Image(filename = '/content/CV-DL-12_Object_Segmentation_and_Tracking/runs/detect/train2/confusion_matrix.png')"
      ]
    },
    {
      "cell_type": "markdown",
      "metadata": {
        "id": "3s06ojtCr5qI"
      },
      "source": [
        "# **Printing the Training and the Validation Loss**"
      ]
    },
    {
      "cell_type": "code",
      "execution_count": null,
      "metadata": {
        "id": "8NdUOQwur54k"
      },
      "outputs": [],
      "source": [
        "Image(filename = r'/content/CV-DL-12_Object_Segmentation_and_Tracking/runs/detect/train2/results.png', width = 600)"
      ]
    },
    {
      "cell_type": "markdown",
      "metadata": {
        "id": "Fo9SQWa4sNKw"
      },
      "source": [
        "# **Printing the Model Prediction on Validation Batch**"
      ]
    },
    {
      "cell_type": "code",
      "execution_count": null,
      "metadata": {
        "id": "zXfvx8g4sTx2"
      },
      "outputs": [],
      "source": [
        "Image(filename = r'/content/CV-DL-12_Object_Segmentation_and_Tracking/runs/detect/train2/val_batch2_pred.jpg', width =600)"
      ]
    },
    {
      "cell_type": "markdown",
      "metadata": {
        "id": "aweeS57zNV-j"
      },
      "source": [
        "# **Downloading the Weights From the Google Drive**\"\n"
      ]
    },
    {
      "cell_type": "code",
      "execution_count": null,
      "metadata": {
        "id": "_AVCTxYDNVSb"
      },
      "outputs": [],
      "source": [
        "%cd {HOME}"
      ]
    },
    {
      "cell_type": "code",
      "execution_count": null,
      "metadata": {
        "id": "PaXu7rNzNWFw"
      },
      "outputs": [],
      "source": [
        "!gdown \"https://drive.google.com/uc?id=1VBAZtJ5uJMEsnyya_d0yMP6efBRQ8IX-&confirm=t\""
      ]
    },
    {
      "cell_type": "markdown",
      "metadata": {
        "id": "e8-8kfNdpom-"
      },
      "source": [
        "# **Validate Custom Model**"
      ]
    },
    {
      "cell_type": "code",
      "execution_count": null,
      "metadata": {
        "id": "gHE5lsF1p3p9"
      },
      "outputs": [],
      "source": [
        "!pwd"
      ]
    },
    {
      "cell_type": "code",
      "execution_count": null,
      "metadata": {
        "id": "8kFRrWSBptkY"
      },
      "outputs": [],
      "source": [
        "!python val.py model='best.pt' data={dataset.location}/data.yaml"
      ]
    },
    {
      "cell_type": "markdown",
      "metadata": {
        "id": "9IK3akBhskF0"
      },
      "source": [
        "# **Inference with Custom Model**"
      ]
    },
    {
      "cell_type": "markdown",
      "metadata": {
        "id": "hFK1w1poGo-G"
      },
      "source": [
        "# **Demo Video 1**"
      ]
    },
    {
      "cell_type": "code",
      "execution_count": null,
      "metadata": {
        "id": "g9iHpyuVFv_X"
      },
      "outputs": [],
      "source": [
        "#!gdown \"https://drive.google.com/uc?id=1UUZUS76ylH5RjMSc9s4rITSYDTG5AHt0&confirm=t\"\n"
      ]
    },
    {
      "cell_type": "code",
      "execution_count": null,
      "metadata": {
        "id": "dWLLqGbnsipu"
      },
      "outputs": [],
      "source": [
        "!python predict.py model='best.pt' source='/content/CV-DL-12_Object_Segmentation_and_Tracking/input_data_USER/test/test1.mp4'"
      ]
    },
    {
      "cell_type": "markdown",
      "metadata": {
        "id": "Y0vqsnUJGiKB"
      },
      "source": [
        "# **Display the Demo Video**"
      ]
    },
    {
      "cell_type": "code",
      "execution_count": null,
      "metadata": {
        "colab": {
          "base_uri": "https://localhost:8080/"
        },
        "id": "7MyfgoWKE1e0",
        "outputId": "9f5cc89d-60bb-42bc-fcb7-9fda7fddb11e"
      },
      "outputs": [
        {
          "name": "stdout",
          "output_type": "stream",
          "text": [
            "rm: cannot remove '/content/result_compressed.mp4': No such file or directory\n"
          ]
        }
      ],
      "source": [
        "!rm \"/content/result_compressed.mp4\""
      ]
    },
    {
      "cell_type": "code",
      "execution_count": null,
      "metadata": {
        "id": "WkR9WDjCEn18"
      },
      "outputs": [],
      "source": [
        "from IPython.display import HTML\n",
        "from base64 import b64encode\n",
        "import os\n",
        "\n",
        "# Input video path\n",
        "save_path = '/content/CV-DL-12_Object_Segmentation_and_Tracking/runs/detect/train/test4.mp4'\n",
        "\n",
        "# Compressed video path\n",
        "compressed_path = \"/content/result_compressed.mp4\"\n",
        "\n",
        "os.system(f\"ffmpeg -i {save_path} -vcodec libx264 {compressed_path}\")\n",
        "\n",
        "# Show video\n",
        "mp4 = open(compressed_path,'rb').read()\n",
        "data_url = \"data:video/mp4;base64,\" + b64encode(mp4).decode()\n",
        "HTML(\"\"\"\n",
        "<video width=400 controls>\n",
        "      <source src=\"%s\" type=\"video/mp4\">\n",
        "</video>\n",
        "\"\"\" % data_url)"
      ]
    },
    {
      "cell_type": "markdown",
      "metadata": {
        "id": "hB_rMcNNGtio"
      },
      "source": [
        "# **Demo Video 2**"
      ]
    },
    {
      "cell_type": "code",
      "execution_count": null,
      "metadata": {
        "id": "LLqHbof1Gvz1"
      },
      "outputs": [],
      "source": [
        "#!gdown \"https://drive.google.com/uc?id=1MaH6dNoegFjwkhtedxXufn2UD7EPpF_w&confirm=t\"\n"
      ]
    },
    {
      "cell_type": "code",
      "execution_count": null,
      "metadata": {
        "id": "pjf23KSAGv21"
      },
      "outputs": [],
      "source": [
        "!python predict.py model='best.pt' source='/content/CV-DL-12_Object_Segmentation_and_Tracking/input_data_USER/test/test2.mp4'"
      ]
    },
    {
      "cell_type": "markdown",
      "metadata": {
        "id": "dClDXNUlHDxV"
      },
      "source": [
        "# **Display the Demo Video**"
      ]
    },
    {
      "cell_type": "code",
      "execution_count": null,
      "metadata": {
        "id": "sE-R4zmyHGeW"
      },
      "outputs": [],
      "source": [
        "!rm \"/content/result_compressed.mp4\""
      ]
    },
    {
      "cell_type": "code",
      "execution_count": null,
      "metadata": {
        "id": "fz6PouroHGi3"
      },
      "outputs": [],
      "source": [
        "from IPython.display import HTML\n",
        "from base64 import b64encode\n",
        "import os\n",
        "\n",
        "# Input video path\n",
        "save_path = '/content/CV-DL-12_Object_Segmentation_and_Tracking/runs/detect/train2/test2.mp4'\n",
        "\n",
        "# Compressed video path\n",
        "compressed_path = \"/content/result_compressed.mp4\"\n",
        "\n",
        "os.system(f\"ffmpeg -i {save_path} -vcodec libx264 {compressed_path}\")\n",
        "\n",
        "# Show video\n",
        "mp4 = open(compressed_path,'rb').read()\n",
        "data_url = \"data:video/mp4;base64,\" + b64encode(mp4).decode()\n",
        "HTML(\"\"\"\n",
        "<video width=400 controls>\n",
        "      <source src=\"%s\" type=\"video/mp4\">\n",
        "</video>\n",
        "\"\"\" % data_url)"
      ]
    },
    {
      "cell_type": "code",
      "execution_count": null,
      "metadata": {
        "id": "JGR8tiSjIT93"
      },
      "outputs": [],
      "source": []
    }
  ],
  "metadata": {
    "accelerator": "GPU",
    "colab": {
      "provenance": []
    },
    "gpuClass": "standard",
    "kernelspec": {
      "display_name": "Python 3",
      "name": "python3"
    },
    "language_info": {
      "name": "python",
      "version": "3.10.12"
    }
  },
  "nbformat": 4,
  "nbformat_minor": 0
}